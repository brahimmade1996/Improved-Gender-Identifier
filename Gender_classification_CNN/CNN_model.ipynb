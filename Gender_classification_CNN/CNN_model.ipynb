{
 "cells": [
  {
   "cell_type": "code",
   "execution_count": 3,
   "metadata": {},
   "outputs": [],
   "source": [
    "# #######################################################################\n",
    "# Importing necessary libraries for creating model\n",
    "\n",
    "from keras.models import Sequential\n",
    "from keras.layers.core import Dense, Dropout, Activation, Flatten\n",
    "from keras.layers.convolutional import Convolution2D, MaxPooling2D\n",
    "from sklearn.model_selection import train_test_split   # For test train data spliting\n",
    "import pandas as pd\n",
    "import numpy as np\n",
    "import keras"
   ]
  },
  {
   "cell_type": "code",
   "execution_count": 5,
   "metadata": {},
   "outputs": [
    {
     "name": "stdout",
     "output_type": "stream",
     "text": [
      "Beginning file download with urllib2...\n"
     ]
    },
    {
     "data": {
      "text/plain": [
       "('/home/sshuser2/wiki.csv', <http.client.HTTPMessage at 0x7f22d389ee10>)"
      ]
     },
     "execution_count": 5,
     "metadata": {},
     "output_type": "execute_result"
    }
   ],
   "source": [
    "# #######################################################################\n",
    "# If we need to download data from any websites\n",
    "\n",
    "print('Beginning file download with urllib2...')\n",
    "\n",
    "url = 'http://datax.kennesaw.edu/imdb_wiki/wiki5.csv'  \n",
    "urllib.request.urlretrieve(url, '/home/sshuser2/wiki.csv')"
   ]
  },
  {
   "cell_type": "code",
   "execution_count": 2,
   "metadata": {},
   "outputs": [],
   "source": [
    "data = pd.read_csv('/home/sshuser2/imdb.csv')"
   ]
  },
  {
   "cell_type": "code",
   "execution_count": 3,
   "metadata": {},
   "outputs": [
    {
     "data": {
      "text/html": [
       "<div>\n",
       "<style scoped>\n",
       "    .dataframe tbody tr th:only-of-type {\n",
       "        vertical-align: middle;\n",
       "    }\n",
       "\n",
       "    .dataframe tbody tr th {\n",
       "        vertical-align: top;\n",
       "    }\n",
       "\n",
       "    .dataframe thead th {\n",
       "        text-align: right;\n",
       "    }\n",
       "</style>\n",
       "<table border=\"1\" class=\"dataframe\">\n",
       "  <thead>\n",
       "    <tr style=\"text-align: right;\">\n",
       "      <th></th>\n",
       "      <th>Unnamed: 0</th>\n",
       "      <th>gender</th>\n",
       "      <th>age</th>\n",
       "      <th>px0</th>\n",
       "      <th>px1</th>\n",
       "      <th>px2</th>\n",
       "      <th>px3</th>\n",
       "      <th>px4</th>\n",
       "      <th>px5</th>\n",
       "      <th>px6</th>\n",
       "      <th>...</th>\n",
       "      <th>px9990</th>\n",
       "      <th>px9991</th>\n",
       "      <th>px9992</th>\n",
       "      <th>px9993</th>\n",
       "      <th>px9994</th>\n",
       "      <th>px9995</th>\n",
       "      <th>px9996</th>\n",
       "      <th>px9997</th>\n",
       "      <th>px9998</th>\n",
       "      <th>px9999</th>\n",
       "    </tr>\n",
       "  </thead>\n",
       "  <tbody>\n",
       "    <tr>\n",
       "      <th>0</th>\n",
       "      <td>0</td>\n",
       "      <td>0</td>\n",
       "      <td>49</td>\n",
       "      <td>16</td>\n",
       "      <td>15</td>\n",
       "      <td>17</td>\n",
       "      <td>18</td>\n",
       "      <td>15</td>\n",
       "      <td>15</td>\n",
       "      <td>15</td>\n",
       "      <td>...</td>\n",
       "      <td>11</td>\n",
       "      <td>23</td>\n",
       "      <td>193</td>\n",
       "      <td>132</td>\n",
       "      <td>11</td>\n",
       "      <td>5</td>\n",
       "      <td>12</td>\n",
       "      <td>12</td>\n",
       "      <td>14</td>\n",
       "      <td>14</td>\n",
       "    </tr>\n",
       "    <tr>\n",
       "      <th>1</th>\n",
       "      <td>1</td>\n",
       "      <td>0</td>\n",
       "      <td>81</td>\n",
       "      <td>47</td>\n",
       "      <td>48</td>\n",
       "      <td>49</td>\n",
       "      <td>47</td>\n",
       "      <td>49</td>\n",
       "      <td>51</td>\n",
       "      <td>51</td>\n",
       "      <td>...</td>\n",
       "      <td>33</td>\n",
       "      <td>33</td>\n",
       "      <td>33</td>\n",
       "      <td>33</td>\n",
       "      <td>33</td>\n",
       "      <td>33</td>\n",
       "      <td>33</td>\n",
       "      <td>33</td>\n",
       "      <td>33</td>\n",
       "      <td>32</td>\n",
       "    </tr>\n",
       "    <tr>\n",
       "      <th>2</th>\n",
       "      <td>2</td>\n",
       "      <td>0</td>\n",
       "      <td>81</td>\n",
       "      <td>19</td>\n",
       "      <td>19</td>\n",
       "      <td>19</td>\n",
       "      <td>19</td>\n",
       "      <td>19</td>\n",
       "      <td>19</td>\n",
       "      <td>19</td>\n",
       "      <td>...</td>\n",
       "      <td>8</td>\n",
       "      <td>8</td>\n",
       "      <td>8</td>\n",
       "      <td>7</td>\n",
       "      <td>6</td>\n",
       "      <td>5</td>\n",
       "      <td>8</td>\n",
       "      <td>4</td>\n",
       "      <td>227</td>\n",
       "      <td>217</td>\n",
       "    </tr>\n",
       "    <tr>\n",
       "      <th>3</th>\n",
       "      <td>3</td>\n",
       "      <td>0</td>\n",
       "      <td>80</td>\n",
       "      <td>0</td>\n",
       "      <td>0</td>\n",
       "      <td>0</td>\n",
       "      <td>0</td>\n",
       "      <td>0</td>\n",
       "      <td>0</td>\n",
       "      <td>0</td>\n",
       "      <td>...</td>\n",
       "      <td>36</td>\n",
       "      <td>59</td>\n",
       "      <td>39</td>\n",
       "      <td>19</td>\n",
       "      <td>9</td>\n",
       "      <td>27</td>\n",
       "      <td>25</td>\n",
       "      <td>24</td>\n",
       "      <td>24</td>\n",
       "      <td>24</td>\n",
       "    </tr>\n",
       "    <tr>\n",
       "      <th>4</th>\n",
       "      <td>4</td>\n",
       "      <td>1</td>\n",
       "      <td>37</td>\n",
       "      <td>184</td>\n",
       "      <td>191</td>\n",
       "      <td>199</td>\n",
       "      <td>201</td>\n",
       "      <td>195</td>\n",
       "      <td>197</td>\n",
       "      <td>198</td>\n",
       "      <td>...</td>\n",
       "      <td>230</td>\n",
       "      <td>228</td>\n",
       "      <td>226</td>\n",
       "      <td>226</td>\n",
       "      <td>224</td>\n",
       "      <td>221</td>\n",
       "      <td>217</td>\n",
       "      <td>217</td>\n",
       "      <td>211</td>\n",
       "      <td>205</td>\n",
       "    </tr>\n",
       "  </tbody>\n",
       "</table>\n",
       "<p>5 rows × 10003 columns</p>\n",
       "</div>"
      ],
      "text/plain": [
       "   Unnamed: 0  gender  age  px0  px1  px2  px3  px4  px5  px6  ...  px9990  \\\n",
       "0           0       0   49   16   15   17   18   15   15   15  ...      11   \n",
       "1           1       0   81   47   48   49   47   49   51   51  ...      33   \n",
       "2           2       0   81   19   19   19   19   19   19   19  ...       8   \n",
       "3           3       0   80    0    0    0    0    0    0    0  ...      36   \n",
       "4           4       1   37  184  191  199  201  195  197  198  ...     230   \n",
       "\n",
       "   px9991  px9992  px9993  px9994  px9995  px9996  px9997  px9998  px9999  \n",
       "0      23     193     132      11       5      12      12      14      14  \n",
       "1      33      33      33      33      33      33      33      33      32  \n",
       "2       8       8       7       6       5       8       4     227     217  \n",
       "3      59      39      19       9      27      25      24      24      24  \n",
       "4     228     226     226     224     221     217     217     211     205  \n",
       "\n",
       "[5 rows x 10003 columns]"
      ]
     },
     "execution_count": 3,
     "metadata": {},
     "output_type": "execute_result"
    }
   ],
   "source": [
    "data.head()"
   ]
  },
  {
   "cell_type": "code",
   "execution_count": 4,
   "metadata": {},
   "outputs": [],
   "source": [
    "# #######################################################################\n",
    "# Separeting data and label and removing pressure on processor\n",
    "\n",
    "df_x = data.iloc[:,3:].values.reshape(len(data),100,100,1)\n",
    "\n",
    "y = data.iloc[:,1].values\n",
    "\n",
    "del data"
   ]
  },
  {
   "cell_type": "code",
   "execution_count": 5,
   "metadata": {},
   "outputs": [],
   "source": [
    "df_y = keras.utils.to_categorical(y,num_classes=2)"
   ]
  },
  {
   "cell_type": "code",
   "execution_count": 6,
   "metadata": {},
   "outputs": [],
   "source": [
    "df_x = np.array(df_x)\n",
    "df_y = np.array(df_y)"
   ]
  },
  {
   "cell_type": "code",
   "execution_count": 8,
   "metadata": {},
   "outputs": [
    {
     "data": {
      "text/plain": [
       "(33147, 100, 100, 1)"
      ]
     },
     "execution_count": 8,
     "metadata": {},
     "output_type": "execute_result"
    }
   ],
   "source": [
    "df_x.shape"
   ]
  },
  {
   "cell_type": "code",
   "execution_count": 7,
   "metadata": {},
   "outputs": [
    {
     "name": "stdout",
     "output_type": "stream",
     "text": [
      "(26517, 100, 100, 1)\n",
      "(6630, 100, 100, 1)\n"
     ]
    }
   ],
   "source": [
    "# #######################################################################\n",
    "# Split into a training set and a test set using a stratified k fold\n",
    "\n",
    "x_train, x_test, y_train, y_test = train_test_split(df_x,df_y,test_size=0.2,random_state=4)\n",
    "\n",
    "del df_x\n",
    "del df_y\n",
    "\n",
    "print(x_train.shape)\n",
    "print(x_test.shape)"
   ]
  },
  {
   "cell_type": "code",
   "execution_count": 9,
   "metadata": {
    "scrolled": true
   },
   "outputs": [],
   "source": [
    "# #############################################################################\n",
    "# Creating a Convolutional Neural Network (CNN) MODEL \n",
    "\n",
    "model = Sequential()\n",
    "model.add(Convolution2D(64,3,data_format='channels_last',activation='relu',input_shape=(100,100,1)))\n",
    "model.add(MaxPooling2D(pool_size=(2,2)))\n",
    "model.add(Convolution2D(32,3,data_format='channels_last',activation='relu'))\n",
    "model.add(MaxPooling2D(pool_size=(2,2)))\n",
    "model.add(Convolution2D(16,3,data_format='channels_last',activation='relu'))\n",
    "model.add(MaxPooling2D(pool_size=(2,2)))\n",
    "model.add(Convolution2D(8,3,data_format='channels_last',activation='relu'))\n",
    "model.add(MaxPooling2D(pool_size=(2,2)))\n",
    "model.add(Convolution2D(4,3,data_format='channels_last',activation='relu'))\n",
    "model.add(MaxPooling2D(pool_size=(2,2)))\n",
    "\n",
    "model.add(Flatten())\n",
    "model.add(Dense(100))\n",
    "model.add(Activation('sigmoid'))\n",
    "model.add(Dropout(0.5))\n",
    "model.add(Dense(2))\n",
    "model.add(Activation('softmax'))\n",
    "model.compile(loss='categorical_crossentropy',optimizer = 'adadelta', metrics = ['accuracy'])"
   ]
  },
  {
   "cell_type": "code",
   "execution_count": 94,
   "metadata": {},
   "outputs": [
    {
     "name": "stdout",
     "output_type": "stream",
     "text": [
      "_________________________________________________________________\n",
      "Layer (type)                 Output Shape              Param #   \n",
      "=================================================================\n",
      "conv2d_11 (Conv2D)           (None, 98, 98, 64)        640       \n",
      "_________________________________________________________________\n",
      "max_pooling2d_11 (MaxPooling (None, 49, 49, 64)        0         \n",
      "_________________________________________________________________\n",
      "conv2d_12 (Conv2D)           (None, 47, 47, 32)        18464     \n",
      "_________________________________________________________________\n",
      "max_pooling2d_12 (MaxPooling (None, 23, 23, 32)        0         \n",
      "_________________________________________________________________\n",
      "conv2d_13 (Conv2D)           (None, 21, 21, 16)        4624      \n",
      "_________________________________________________________________\n",
      "max_pooling2d_13 (MaxPooling (None, 10, 10, 16)        0         \n",
      "_________________________________________________________________\n",
      "conv2d_14 (Conv2D)           (None, 8, 8, 8)           1160      \n",
      "_________________________________________________________________\n",
      "max_pooling2d_14 (MaxPooling (None, 4, 4, 8)           0         \n",
      "_________________________________________________________________\n",
      "conv2d_15 (Conv2D)           (None, 2, 2, 4)           292       \n",
      "_________________________________________________________________\n",
      "max_pooling2d_15 (MaxPooling (None, 1, 1, 4)           0         \n",
      "_________________________________________________________________\n",
      "flatten_3 (Flatten)          (None, 4)                 0         \n",
      "_________________________________________________________________\n",
      "dense_5 (Dense)              (None, 100)               500       \n",
      "_________________________________________________________________\n",
      "activation_5 (Activation)    (None, 100)               0         \n",
      "_________________________________________________________________\n",
      "dropout_3 (Dropout)          (None, 100)               0         \n",
      "_________________________________________________________________\n",
      "dense_6 (Dense)              (None, 2)                 202       \n",
      "_________________________________________________________________\n",
      "activation_6 (Activation)    (None, 2)                 0         \n",
      "=================================================================\n",
      "Total params: 25,882\n",
      "Trainable params: 25,882\n",
      "Non-trainable params: 0\n",
      "_________________________________________________________________\n"
     ]
    }
   ],
   "source": [
    "model.summary()"
   ]
  },
  {
   "cell_type": "code",
   "execution_count": 10,
   "metadata": {},
   "outputs": [
    {
     "name": "stdout",
     "output_type": "stream",
     "text": [
      "WARNING:tensorflow:From /home/sshuser2/.local/lib/python3.6/site-packages/tensorflow/python/ops/math_ops.py:3066: to_int32 (from tensorflow.python.ops.math_ops) is deprecated and will be removed in a future version.\n",
      "Instructions for updating:\n",
      "Use tf.cast instead.\n",
      "Train on 26517 samples, validate on 6630 samples\n",
      "Epoch 1/20\n",
      "26517/26517 [==============================] - 305s 12ms/step - loss: 0.6367 - acc: 0.6581 - val_loss: 0.4480 - val_acc: 0.8006\n",
      "Epoch 2/20\n",
      "26517/26517 [==============================] - 302s 11ms/step - loss: 0.3714 - acc: 0.8450 - val_loss: 0.3053 - val_acc: 0.8695\n",
      "Epoch 3/20\n",
      "26517/26517 [==============================] - 303s 11ms/step - loss: 0.2626 - acc: 0.8976 - val_loss: 0.2005 - val_acc: 0.9253\n",
      "Epoch 4/20\n",
      "26517/26517 [==============================] - 304s 11ms/step - loss: 0.2054 - acc: 0.9222 - val_loss: 0.1502 - val_acc: 0.9456\n",
      "Epoch 5/20\n",
      "26517/26517 [==============================] - 304s 11ms/step - loss: 0.1628 - acc: 0.9408 - val_loss: 0.1451 - val_acc: 0.9471\n",
      "Epoch 6/20\n",
      "26517/26517 [==============================] - 303s 11ms/step - loss: 0.1425 - acc: 0.9503 - val_loss: 0.1793 - val_acc: 0.9365\n",
      "Epoch 7/20\n",
      "26517/26517 [==============================] - 305s 11ms/step - loss: 0.1258 - acc: 0.9577 - val_loss: 0.1245 - val_acc: 0.9579\n",
      "Epoch 8/20\n",
      "26517/26517 [==============================] - 303s 11ms/step - loss: 0.1145 - acc: 0.9627 - val_loss: 0.1552 - val_acc: 0.9462\n",
      "Epoch 9/20\n",
      "26517/26517 [==============================] - 303s 11ms/step - loss: 0.1099 - acc: 0.9641 - val_loss: 0.1067 - val_acc: 0.9658\n",
      "Epoch 10/20\n",
      "26517/26517 [==============================] - 305s 12ms/step - loss: 0.1007 - acc: 0.9682 - val_loss: 0.1066 - val_acc: 0.9650\n",
      "Epoch 11/20\n",
      "26517/26517 [==============================] - 304s 11ms/step - loss: 0.0957 - acc: 0.9706 - val_loss: 0.1102 - val_acc: 0.9650\n",
      "Epoch 12/20\n",
      "26517/26517 [==============================] - 305s 12ms/step - loss: 0.0913 - acc: 0.9723 - val_loss: 0.1188 - val_acc: 0.9623\n",
      "Epoch 13/20\n",
      "26517/26517 [==============================] - 302s 11ms/step - loss: 0.0851 - acc: 0.9745 - val_loss: 0.1097 - val_acc: 0.9652\n",
      "Epoch 14/20\n",
      "26517/26517 [==============================] - 296s 11ms/step - loss: 0.0831 - acc: 0.9748 - val_loss: 0.1608 - val_acc: 0.9472\n",
      "Epoch 15/20\n",
      "26517/26517 [==============================] - 298s 11ms/step - loss: 0.0759 - acc: 0.9789 - val_loss: 0.1041 - val_acc: 0.9650\n",
      "Epoch 16/20\n",
      "26517/26517 [==============================] - 296s 11ms/step - loss: 0.0774 - acc: 0.9777 - val_loss: 0.1183 - val_acc: 0.9609\n",
      "Epoch 17/20\n",
      "26517/26517 [==============================] - 297s 11ms/step - loss: 0.0710 - acc: 0.9802 - val_loss: 0.1067 - val_acc: 0.9673\n",
      "Epoch 18/20\n",
      "26517/26517 [==============================] - 297s 11ms/step - loss: 0.0712 - acc: 0.9800 - val_loss: 0.1059 - val_acc: 0.9676\n",
      "Epoch 19/20\n",
      "26517/26517 [==============================] - 298s 11ms/step - loss: 0.0670 - acc: 0.9811 - val_loss: 0.1001 - val_acc: 0.9691\n",
      "Epoch 20/20\n",
      "26517/26517 [==============================] - 298s 11ms/step - loss: 0.0656 - acc: 0.9818 - val_loss: 0.1139 - val_acc: 0.9633\n"
     ]
    }
   ],
   "source": [
    "# #############################################################################\n",
    "# Doing k fold cross validation for k = 5 and 20 times\n",
    "\n",
    "v = model.fit(x_train, y_train, validation_data=(x_test, y_test), epochs=20, batch_size=200)"
   ]
  },
  {
   "cell_type": "code",
   "execution_count": 11,
   "metadata": {},
   "outputs": [
    {
     "name": "stdout",
     "output_type": "stream",
     "text": [
      "6630/6630 [==============================] - 19s 3ms/step\n"
     ]
    },
    {
     "data": {
      "text/plain": [
       "[0.11390666331151897, 0.9633484162895928]"
      ]
     },
     "execution_count": 11,
     "metadata": {},
     "output_type": "execute_result"
    }
   ],
   "source": [
    "model.evaluate(x_test,y_test)"
   ]
  },
  {
   "cell_type": "code",
   "execution_count": 12,
   "metadata": {},
   "outputs": [
    {
     "name": "stdout",
     "output_type": "stream",
     "text": [
      "              precision    recall  f1-score   support\n",
      "\n",
      "           0       0.95      0.98      0.97      3805\n",
      "           1       0.98      0.94      0.96      2825\n",
      "\n",
      "    accuracy                           0.96      6630\n",
      "   macro avg       0.97      0.96      0.96      6630\n",
      "weighted avg       0.96      0.96      0.96      6630\n",
      "\n"
     ]
    }
   ],
   "source": [
    "# #############################################################################\n",
    "# Predicting gender and reporting the precision, recall F1-score\n",
    "\n",
    "from sklearn.metrics import classification_report, confusion_matrix\n",
    "\n",
    "y_pred = model.predict_classes(x_test)\n",
    "con_mat = confusion_matrix(np.argmax(y_test,axis=1),y_pred)\n",
    "print(classification_report(np.argmax(y_test,axis=1),y_pred))"
   ]
  },
  {
   "cell_type": "code",
   "execution_count": 16,
   "metadata": {},
   "outputs": [
    {
     "name": "stdout",
     "output_type": "stream",
     "text": [
      "Total accuracy is:\n",
      "96.33%\n"
     ]
    }
   ],
   "source": [
    "accuracy = (sum(con_mat.diagonal()))/(con_mat.sum())       # Calculating the accuracy\n",
    "\n",
    "print(\"Total accuracy is:\")\n",
    "print('{percent:.2%}'.format(percent=accuracy))"
   ]
  },
  {
   "cell_type": "code",
   "execution_count": 17,
   "metadata": {},
   "outputs": [
    {
     "name": "stdout",
     "output_type": "stream",
     "text": [
      "94.193% (+/- 2.899%)\n"
     ]
    }
   ],
   "source": [
    "# #############################################################################\n",
    "# Reporting the 90% CI for k fold cross validation\n",
    "\n",
    "from scipy.stats import sem, t\n",
    "from scipy import mean\n",
    "\n",
    "ac = v.history['acc']\n",
    "confidence = 0.90\n",
    "n = len(ac)\n",
    "m = mean(ac)\n",
    "std_err = sem(ac)\n",
    "h = std_err * t.ppf((1 + confidence) / 2, n - 1)\n",
    "print(\"%.3f%% (+/- %.3f%%)\" % (np.mean(ac)*100, h*100))"
   ]
  },
  {
   "cell_type": "code",
   "execution_count": null,
   "metadata": {},
   "outputs": [],
   "source": []
  }
 ],
 "metadata": {
  "kernelspec": {
   "display_name": "Python 3",
   "language": "python",
   "name": "python3"
  },
  "language_info": {
   "codemirror_mode": {
    "name": "ipython",
    "version": 3
   },
   "file_extension": ".py",
   "mimetype": "text/x-python",
   "name": "python",
   "nbconvert_exporter": "python",
   "pygments_lexer": "ipython3",
   "version": "3.6.6"
  }
 },
 "nbformat": 4,
 "nbformat_minor": 2
}
