{
 "cells": [
  {
   "cell_type": "code",
   "execution_count": null,
   "metadata": {},
   "outputs": [],
   "source": [
    "# #######################################################################\n",
    "# Importing necessary libraries for data reading and manipulation\n",
    "\n",
    "from keras.models import Sequential\n",
    "from keras.layers.core import Dense, Dropout, Activation, Flatten\n",
    "from keras.layers.convolutional import Convolution2D, MaxPooling2D\n",
    "from sklearn.model_selection import train_test_split   # For test train data spliting\n",
    "import pandas as pd\n",
    "import numpy as np\n",
    "import keras\n",
    "from sklearn.metrics import classification_report, confusion_matrix"
   ]
  },
  {
   "cell_type": "code",
   "execution_count": null,
   "metadata": {},
   "outputs": [],
   "source": [
    "# #######################################################################\n",
    "# Importing data and preprocessing\n",
    "\n",
    "data = pd.read_csv('/gesis.csv')\n",
    "df_x = data.iloc[:,3:].values.reshape(len(data),100,100,1)\n",
    "y = data.iloc[:,1].values\n",
    "del data\n",
    "df_y = keras.utils.to_categorical(y,num_classes=2)\n",
    "df_x = np.array(df_x)\n",
    "df_y = np.array(df_y)"
   ]
  },
  {
   "cell_type": "code",
   "execution_count": null,
   "metadata": {},
   "outputs": [],
   "source": [
    "# #######################################################################\n",
    "# CNN Model\n",
    "\n",
    "model = Sequential()\n",
    "model.add(Convolution2D(64,3,data_format='channels_last',activation='relu',input_shape=(100,100,1)))\n",
    "model.add(MaxPooling2D(pool_size=(2,2)))\n",
    "model.add(Convolution2D(32,3,data_format='channels_last',activation='relu'))\n",
    "model.add(MaxPooling2D(pool_size=(2,2)))\n",
    "model.add(Convolution2D(16,3,data_format='channels_last',activation='relu'))\n",
    "model.add(MaxPooling2D(pool_size=(2,2)))\n",
    "model.add(Convolution2D(8,3,data_format='channels_last',activation='relu'))\n",
    "model.add(MaxPooling2D(pool_size=(2,2)))\n",
    "model.add(Convolution2D(4,3,data_format='channels_last',activation='relu'))\n",
    "model.add(MaxPooling2D(pool_size=(2,2)))\n",
    "\n",
    "model.add(Flatten())\n",
    "model.add(Dense(100))\n",
    "model.add(Activation('sigmoid'))\n",
    "model.add(Dropout(0.5))\n",
    "model.add(Dense(2))\n",
    "model.add(Activation('softmax'))\n",
    "model.compile(loss='categorical_crossentropy',optimizer = 'adadelta', metrics = ['accuracy'])"
   ]
  },
  {
   "cell_type": "code",
   "execution_count": null,
   "metadata": {},
   "outputs": [],
   "source": [
    "# #######################################################################\n",
    "# CNN Model\n",
    "\n",
    "model.summary()\n",
    "s_fit = model.fit(x_train, y_train, validation_data=(x_test, y_test), epochs=20, batch_size=200)\n",
    "d_evaluate = model.evaluate(x_test,y_test)"
   ]
  },
  {
   "cell_type": "code",
   "execution_count": null,
   "metadata": {},
   "outputs": [],
   "source": [
    "# #######################################################################\n",
    "# Prediction and evaluation\n",
    "\n",
    "y_pred = model.predict_classes(x_test)\n",
    "print(classification_report(np.argmax(y_test,axis=1),y_pred))\n",
    "con_mat = confusion_matrix(np.argmax(y_test,axis=1),y_pred)\n",
    "print(con_mat)\n",
    "accuracy = (sum(con_mat.diagonal()))/(con_mat.sum())       # Calculating the accuracy\n",
    "\n",
    "print(\"Total accuracy is:\")\n",
    "print('{percent:.2%}'.format(percent=accuracy))"
   ]
  },
  {
   "cell_type": "code",
   "execution_count": null,
   "metadata": {},
   "outputs": [],
   "source": []
  }
 ],
 "metadata": {
  "kernelspec": {
   "display_name": "Python 3",
   "language": "python",
   "name": "python3"
  },
  "language_info": {
   "codemirror_mode": {
    "name": "ipython",
    "version": 3
   },
   "file_extension": ".py",
   "mimetype": "text/x-python",
   "name": "python",
   "nbconvert_exporter": "python",
   "pygments_lexer": "ipython3",
   "version": "3.7.1"
  }
 },
 "nbformat": 4,
 "nbformat_minor": 2
}
