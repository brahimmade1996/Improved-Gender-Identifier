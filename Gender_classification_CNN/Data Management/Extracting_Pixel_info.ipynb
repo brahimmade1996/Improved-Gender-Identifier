{
 "cells": [
  {
   "cell_type": "code",
   "execution_count": null,
   "metadata": {},
   "outputs": [],
   "source": [
    "# #############################################################################\n",
    "# Importing necessary libraries for creating model\n",
    "\n",
    "import cv2 # importing open CV library\n",
    "import dlib\n",
    "from PIL import Image\n",
    "from skimage import io\n",
    "import matplotlib.pyplot as plt\n",
    "import glob #globbing utility.\n",
    "import numpy as np"
   ]
  },
  {
   "cell_type": "code",
   "execution_count": null,
   "metadata": {},
   "outputs": [],
   "source": [
    "import glob #globbing utility.\n",
    "import numpy as np\n",
    "f = open(\"age.csv\", \"a\")\n",
    "path = 'C:\\\\Users\\\\rahmanar\\\\Male\\\\*.jpg'    # selecting the path of the images\n",
    "for file in glob.glob(path):\n",
    "    a= cv2.imread(file)\n",
    "    detected_faces = detect_faces(a)\n",
    "    for n, face_rect in enumerate(detected_faces):\n",
    "        fa = Image.fromarray(a).crop(face_rect)\n",
    "        s = np.array(resize_im(fa, 100,100))\n",
    "        cv2.namedWindow('path', cv2.WINDOW_NORMAL)\n",
    "        cv2.imshow('path', s)\n",
    "        c = cv2.cvtColor(s, cv2.COLOR_BGR2GRAY)\n",
    "        re_data = reshape(c)\n",
    "        np.savetxt(f, re_data, delimiter=\",\", fmt = '%d')\n",
    "        cv2.waitKey(0)\n",
    "        cv2.destroyAllWindows()"
   ]
  }
 ],
 "metadata": {
  "kernelspec": {
   "display_name": "Python 3",
   "language": "python",
   "name": "python3"
  },
  "language_info": {
   "codemirror_mode": {
    "name": "ipython",
    "version": 3
   },
   "file_extension": ".py",
   "mimetype": "text/x-python",
   "name": "python",
   "nbconvert_exporter": "python",
   "pygments_lexer": "ipython3",
   "version": "3.7.3"
  }
 },
 "nbformat": 4,
 "nbformat_minor": 2
}
