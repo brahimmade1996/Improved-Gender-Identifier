{
 "cells": [
  {
   "cell_type": "code",
   "execution_count": 1,
   "metadata": {},
   "outputs": [
    {
     "name": "stderr",
     "output_type": "stream",
     "text": [
      "Using TensorFlow backend.\n"
     ]
    }
   ],
   "source": [
    "# #############################################################################\n",
    "# Importing necessary libraries for creating model\n",
    "\n",
    "from keras.models import model_from_json\n",
    "from keras.models import load_model\n",
    "import os\n",
    "import pandas as pd\n",
    "import numpy as np\n",
    "import keras"
   ]
  },
  {
   "cell_type": "code",
   "execution_count": 20,
   "metadata": {},
   "outputs": [
    {
     "name": "stdout",
     "output_type": "stream",
     "text": [
      "Loaded model from disk\n"
     ]
    }
   ],
   "source": [
    "# #############################################################################\n",
    "# Reading the trained model from the folder or server\n",
    "\n",
    "json_file = open('model.json', 'r')\n",
    "loaded_model_json = json_file.read()\n",
    "json_file.close()\n",
    "loaded_model = model_from_json(loaded_model_json)\n",
    "loaded_model.load_weights(\"model.h5\")\n",
    "print(\"Loaded model from disk\")"
   ]
  },
  {
   "cell_type": "code",
   "execution_count": 12,
   "metadata": {},
   "outputs": [],
   "source": [
    "# #############################################################################\n",
    "# Reading the test data from the folder or server and processed\n",
    "\n",
    "data = pd.read_csv('/home/sshuser2/wiki.csv')\n",
    "df_x = data.iloc[:,3:].values.reshape(len(data),100,100,1)\n",
    "\n",
    "y = data.iloc[:,1].values\n",
    "\n",
    "del data\n",
    "\n",
    "df_y = keras.utils.to_categorical(y,num_classes=2)\n",
    "f_x = np.array(df_x)\n",
    "f_y = np.array(df_y)"
   ]
  },
  {
   "cell_type": "code",
   "execution_count": 16,
   "metadata": {},
   "outputs": [
    {
     "name": "stdout",
     "output_type": "stream",
     "text": [
      "3209/3209 [==============================] - 9s 3ms/step\n",
      "acc: 93.27%\n"
     ]
    }
   ],
   "source": [
    "# #############################################################################\n",
    "# evaluate loaded model on test data\n",
    "\n",
    "loaded_model.compile(loss='categorical_crossentropy',optimizer = 'adadelta', metrics = ['accuracy'])\n",
    "d = loaded_model.evaluate(f_x,f_y)\n",
    "print(\"%s: %.2f%%\" % (loaded_model.metrics_names[1], d[1]*100))"
   ]
  },
  {
   "cell_type": "code",
   "execution_count": 17,
   "metadata": {},
   "outputs": [
    {
     "name": "stdout",
     "output_type": "stream",
     "text": [
      "              precision    recall  f1-score   support\n",
      "\n",
      "           0       0.92      0.92      0.92      1379\n",
      "           1       0.94      0.94      0.94      1830\n",
      "\n",
      "   micro avg       0.93      0.93      0.93      3209\n",
      "   macro avg       0.93      0.93      0.93      3209\n",
      "weighted avg       0.93      0.93      0.93      3209\n",
      "\n"
     ]
    }
   ],
   "source": [
    "# #############################################################################\n",
    "# Predicting gender and reporting the precision, recall F1-score and accuracy\n",
    "\n",
    "from sklearn.metrics import classification_report, confusion_matrix\n",
    "\n",
    "y_pred = loaded_model.predict_classes(f_x)\n",
    "con_mat = confusion_matrix(np.argmax(f_y,axis=1),y_pred)\n",
    "print(classification_report(np.argmax(f_y,axis=1),y_pred))"
   ]
  },
  {
   "cell_type": "code",
   "execution_count": 18,
   "metadata": {},
   "outputs": [
    {
     "name": "stdout",
     "output_type": "stream",
     "text": [
      "Total accuracy is:\n",
      "93.27%\n"
     ]
    }
   ],
   "source": [
    "accuracy = float(sum(con_mat.diagonal()))/(con_mat.sum())       # Calculating the accuracy\n",
    "\n",
    "print(\"Total accuracy is:\")\n",
    "print('{percent:.2%}'.format(percent=accuracy))"
   ]
  },
  {
   "cell_type": "code",
   "execution_count": null,
   "metadata": {},
   "outputs": [],
   "source": []
  }
 ],
 "metadata": {
  "kernelspec": {
   "display_name": "Python 3",
   "language": "python",
   "name": "python3"
  },
  "language_info": {
   "codemirror_mode": {
    "name": "ipython",
    "version": 2
   },
   "file_extension": ".py",
   "mimetype": "text/x-python",
   "name": "python",
   "nbconvert_exporter": "python",
   "pygments_lexer": "ipython2",
   "version": "2.7.15rc1"
  }
 },
 "nbformat": 4,
 "nbformat_minor": 2
}
