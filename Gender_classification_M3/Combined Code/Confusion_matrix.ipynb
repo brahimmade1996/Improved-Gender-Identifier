{
 "cells": [
  {
   "cell_type": "code",
   "execution_count": 1,
   "metadata": {},
   "outputs": [],
   "source": [
    "import numpy as np\n",
    "import pandas as pd\n",
    "from sklearn import metrics"
   ]
  },
  {
   "cell_type": "code",
   "execution_count": 2,
   "metadata": {},
   "outputs": [],
   "source": [
    "#import the data\n",
    "GS_female_all= pd.read_csv('GS_f_pred.csv')\n",
    "GS_male_all= pd.read_csv('GS_m_pred.csv')\n",
    "GSfull_data = pd.concat([GS_female_all, GS_male_all])# "
   ]
  },
  {
   "cell_type": "code",
   "execution_count": 3,
   "metadata": {},
   "outputs": [],
   "source": [
    "# True values\n",
    "y_true = GSfull_data['G_Gender']\n",
    "# Predicted values\n",
    "y_pred = GSfull_data['M_Gender']"
   ]
  },
  {
   "cell_type": "code",
   "execution_count": 4,
   "metadata": {},
   "outputs": [
    {
     "name": "stdout",
     "output_type": "stream",
     "text": [
      "[[471  95]\n",
      " [  1 438]]\n",
      "              precision    recall  f1-score   support\n",
      "\n",
      "           F      0.998     0.832     0.908       566\n",
      "           M      0.822     0.998     0.901       439\n",
      "\n",
      "    accuracy                          0.904      1005\n",
      "   macro avg      0.910     0.915     0.904      1005\n",
      "weighted avg      0.921     0.904     0.905      1005\n",
      "\n"
     ]
    }
   ],
   "source": [
    "# Print the confusion matrix\n",
    "print(metrics.confusion_matrix(y_true, y_pred))\n",
    "# Print the precision and recall, among other metrics\n",
    "print(metrics.classification_report(y_true, y_pred, digits=3))"
   ]
  },
  {
   "cell_type": "code",
   "execution_count": 18,
   "metadata": {},
   "outputs": [],
   "source": [
    "#printing the metrics\n",
    "metrics=metrics.classification_report(y_true, y_pred,output_dict=True)"
   ]
  },
  {
   "cell_type": "code",
   "execution_count": 19,
   "metadata": {},
   "outputs": [
    {
     "name": "stdout",
     "output_type": "stream",
     "text": [
      "Precision: 0.921\n",
      "Recall: 0.904\n",
      "F1-score: 0.905\n",
      "Accuracy: 0.904\n"
     ]
    }
   ],
   "source": [
    "#precision:\n",
    "print('Precision:',round(metrics['weighted avg']['precision'],3))\n",
    "#Recall\n",
    "print('Recall:',round(metrics['weighted avg']['recall'],3))\n",
    "#F1-score\n",
    "print('F1-score:',round(metrics['weighted avg']['f1-score'],3))\n",
    "#accuracy\n",
    "print('Accuracy:',round(metrics['accuracy'],3))"
   ]
  },
  {
   "cell_type": "code",
   "execution_count": null,
   "metadata": {},
   "outputs": [],
   "source": []
  }
 ],
 "metadata": {
  "kernelspec": {
   "display_name": "Python 3.7",
   "language": "python",
   "name": "pyton37"
  },
  "language_info": {
   "codemirror_mode": {
    "name": "ipython",
    "version": 3
   },
   "file_extension": ".py",
   "mimetype": "text/x-python",
   "name": "python",
   "nbconvert_exporter": "python",
   "pygments_lexer": "ipython3",
   "version": "3.7.7"
  }
 },
 "nbformat": 4,
 "nbformat_minor": 4
}
