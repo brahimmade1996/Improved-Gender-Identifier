{
 "cells": [
  {
   "cell_type": "code",
   "execution_count": null,
   "metadata": {},
   "outputs": [],
   "source": [
    "import numpy as np\n",
    "import pandas as pd\n",
    "from sklearn import metrics"
   ]
  },
  {
   "cell_type": "code",
   "execution_count": null,
   "metadata": {},
   "outputs": [],
   "source": [
    "#import the data\n",
    "GS_female_all= pd.read_csv('GS_f_pred.csv')\n",
    "GS_male_all= pd.read_csv('GS_m_pred.csv')\n",
    "GSfull_data = pd.concat([GS_female_all, GS_male_all])# "
   ]
  },
  {
   "cell_type": "code",
   "execution_count": null,
   "metadata": {},
   "outputs": [],
   "source": [
    "# True values\n",
    "y_true = GSfull_data['G_Gender']\n",
    "# Predicted values\n",
    "y_pred = GSfull_data['M_Gender']"
   ]
  },
  {
   "cell_type": "code",
   "execution_count": null,
   "metadata": {},
   "outputs": [],
   "source": [
    "# Print the confusion matrix\n",
    "print(metrics.confusion_matrix(y_true, y_pred))\n",
    "# Print the precision and recall, among other metrics\n",
    "print(metrics.classification_report(y_true, y_pred, digits=3))"
   ]
  },
  {
   "cell_type": "code",
   "execution_count": null,
   "metadata": {},
   "outputs": [],
   "source": [
    "#printing the metrics\n",
    "metrics=metrics.classification_report(y_true, y_pred,output_dict=True)"
   ]
  },
  {
   "cell_type": "code",
   "execution_count": null,
   "metadata": {},
   "outputs": [],
   "source": [
    "#precision:\n",
    "print('Precision:',round(metrics['weighted avg']['precision'],3))\n",
    "#Recall\n",
    "print('Recall:',round(metrics['weighted avg']['recall'],3))\n",
    "#F1-score\n",
    "print('F1-score:',round(metrics['weighted avg']['f1-score'],3))\n",
    "#accuracy\n",
    "print('Accuracy:',round(metrics['accuracy'],3))"
   ]
  },
  {
   "cell_type": "code",
   "execution_count": null,
   "metadata": {},
   "outputs": [],
   "source": []
  }
 ],
 "metadata": {
  "kernelspec": {
   "display_name": "Python 3",
   "language": "python",
   "name": "python3"
  },
  "language_info": {
   "codemirror_mode": {
    "name": "ipython",
    "version": 3
   },
   "file_extension": ".py",
   "mimetype": "text/x-python",
   "name": "python",
   "nbconvert_exporter": "python",
   "pygments_lexer": "ipython3"
  }
 },
 "nbformat": 4,
 "nbformat_minor": 4
}
