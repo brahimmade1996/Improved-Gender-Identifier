{
 "cells": [
  {
   "cell_type": "code",
   "execution_count": null,
   "metadata": {},
   "outputs": [],
   "source": [
    "# #############################################################################\n",
    "# Convert all the images in the RGB formate\n",
    "\n",
    "\n",
    "def Convert_format(resized_image):\n",
    "    file_name=resized_image\n",
    "    im = Image.open(resized_image)\n",
    "    x,y=im.size\n",
    "    if x!= y:\n",
    "        #x,y size is not equal then it will resize the images \n",
    "        sqrWidth = np.ceil(np.sqrt(im.size[0]*im.size[1])).astype(int)\n",
    "        im_resize = im.resize((sqrWidth, sqrWidth))\n",
    "        pix = im_resize.load()\n",
    "        Image.open(file_name).convert('RGB').save(file_name)\n",
    "    else:\n",
    "        Image.open(file_name).convert('RGB').save(file_name)"
   ]
  }
 ],
 "metadata": {
  "kernelspec": {
   "display_name": "Python 3",
   "language": "python",
   "name": "python3"
  },
  "language_info": {
   "codemirror_mode": {
    "name": "ipython",
    "version": 3
   },
   "file_extension": ".py",
   "mimetype": "text/x-python",
   "name": "python",
   "nbconvert_exporter": "python",
   "pygments_lexer": "ipython3",
   "version": "3.7.3"
  }
 },
 "nbformat": 4,
 "nbformat_minor": 2
}
