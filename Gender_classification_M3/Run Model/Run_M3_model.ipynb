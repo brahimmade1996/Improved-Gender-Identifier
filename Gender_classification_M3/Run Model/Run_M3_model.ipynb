{
 "cells": [
  {
   "cell_type": "code",
   "execution_count": null,
   "metadata": {},
   "outputs": [],
   "source": [
    "# #############################################################################\n",
    "# Running the M3 inference and getting the gender\n",
    "\n",
    "\n",
    "def Mi_inference(Imagelocation,Imagename):\n",
    "    config = Path(Imagelocation)\n",
    "    value=randomNumber(10)\n",
    "    Dummy_name=randomString(10)\n",
    "\n",
    "    if config.is_file():                               # here we passing parameters in random both string and number\n",
    "        data= {\n",
    "            \"description\":Dummy_name, \n",
    "            \"id\": value,\n",
    "            \"img_path\": Imagelocation, \n",
    "            \"lang\": \"en\", \n",
    "            \"name\": Dummy_name, \n",
    "            \"screen_name\": Dummy_name\n",
    "        }\n",
    "        Json_file='/home/sshuser2/M3/data.jsonl'        # Path to create the Json file\n",
    "        with open(Json_file, 'w') as json_file:\n",
    "            json.dump(data, json_file) \n",
    "        try:                                            # Here Based on values in output will select the geneder\n",
    "            m3 = M3Inference()                          # see docstring for details\n",
    "            pred = m3.infer(Json_file)                  # also see docstring for details\n",
    "            disc=pprint.pprint(pred)\n",
    "            main=dict(pred).get(value)\n",
    "            main_gender=main.get('gender')\n",
    "            main_gender_female=main_gender.get('female')\n",
    "            main_gender_male=main_gender.get('male')\n",
    "            if main_gender_female > main_gender_male :\n",
    "                Gender='F'\n",
    "            elif main_gender_female < main_gender_male :\n",
    "                Gender='M'\n",
    "            else:\n",
    "                Gender='N'\n",
    "        except urllib.error.HTTPError as e:\n",
    "            print (e)\n",
    "    else:\n",
    "        Gender='NI'\n",
    "    return Gender"
   ]
  }
 ],
 "metadata": {
  "kernelspec": {
   "display_name": "Python 3",
   "language": "python",
   "name": "python3"
  },
  "language_info": {
   "codemirror_mode": {
    "name": "ipython",
    "version": 3
   },
   "file_extension": ".py",
   "mimetype": "text/x-python",
   "name": "python",
   "nbconvert_exporter": "python",
   "pygments_lexer": "ipython3",
   "version": "3.7.3"
  }
 },
 "nbformat": 4,
 "nbformat_minor": 2
}
