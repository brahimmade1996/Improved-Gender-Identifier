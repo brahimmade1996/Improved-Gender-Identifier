{
 "cells": [
  {
   "cell_type": "markdown",
   "metadata": {},
   "source": [
    "This notebook is created at GESIS for general public to test \"gender\" package for inferring gender from names. It is a supplement to the GESIS Gender Inference website. For troobleshooting and citation info please refer [here](https://cran.r-project.org/web/packages/gender/)."
   ]
  },
  {
   "cell_type": "code",
   "execution_count": 4,
   "metadata": {},
   "outputs": [
    {
     "name": "stderr",
     "output_type": "stream",
     "text": [
      "PLEASE NOTE: The method provided by this package must be used cautiously\n",
      "and responsibly. Please be sure to see the guidelines and warnings about\n",
      "usage in the README or the package documentation.\n"
     ]
    },
    {
     "data": {
      "text/html": [
       "<table>\n",
       "<caption>A tibble: 1 × 6</caption>\n",
       "<thead>\n",
       "\t<tr><th scope=col>name</th><th scope=col>proportion_male</th><th scope=col>proportion_female</th><th scope=col>gender</th><th scope=col>year_min</th><th scope=col>year_max</th></tr>\n",
       "\t<tr><th scope=col>&lt;chr&gt;</th><th scope=col>&lt;dbl&gt;</th><th scope=col>&lt;dbl&gt;</th><th scope=col>&lt;chr&gt;</th><th scope=col>&lt;dbl&gt;</th><th scope=col>&lt;dbl&gt;</th></tr>\n",
       "</thead>\n",
       "<tbody>\n",
       "\t<tr><td>Madison</td><td>1</td><td>0</td><td>male</td><td>1930</td><td>1930</td></tr>\n",
       "</tbody>\n",
       "</table>\n"
      ],
      "text/latex": [
       "A tibble: 1 × 6\n",
       "\\begin{tabular}{r|llllll}\n",
       " name & proportion\\_male & proportion\\_female & gender & year\\_min & year\\_max\\\\\n",
       " <chr> & <dbl> & <dbl> & <chr> & <dbl> & <dbl>\\\\\n",
       "\\hline\n",
       "\t Madison & 1 & 0 & male & 1930 & 1930\\\\\n",
       "\\end{tabular}\n"
      ],
      "text/markdown": [
       "\n",
       "A tibble: 1 × 6\n",
       "\n",
       "| name &lt;chr&gt; | proportion_male &lt;dbl&gt; | proportion_female &lt;dbl&gt; | gender &lt;chr&gt; | year_min &lt;dbl&gt; | year_max &lt;dbl&gt; |\n",
       "|---|---|---|---|---|---|\n",
       "| Madison | 1 | 0 | male | 1930 | 1930 |\n",
       "\n"
      ],
      "text/plain": [
       "  name    proportion_male proportion_female gender year_min year_max\n",
       "1 Madison 1               0                 male   1930     1930    "
      ]
     },
     "metadata": {},
     "output_type": "display_data"
    }
   ],
   "source": [
    "library(gender)\n",
    "name <- \"Madison\"\n",
    "gender(c(name), years = 1930, method = \"ssa\")"
   ]
  },
  {
   "cell_type": "code",
   "execution_count": null,
   "metadata": {},
   "outputs": [],
   "source": []
  }
 ],
 "metadata": {
  "kernelspec": {
   "display_name": "R",
   "language": "R",
   "name": "ir"
  },
  "language_info": {
   "codemirror_mode": "r",
   "file_extension": ".r",
   "mimetype": "text/x-r-source",
   "name": "R",
   "pygments_lexer": "r",
   "version": "3.6.0"
  }
 },
 "nbformat": 4,
 "nbformat_minor": 2
}
