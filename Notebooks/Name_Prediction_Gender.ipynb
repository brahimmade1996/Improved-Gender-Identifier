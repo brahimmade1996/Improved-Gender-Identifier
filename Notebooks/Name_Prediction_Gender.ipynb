{
 "cells": [
  {
   "cell_type": "markdown",
   "metadata": {},
   "source": [
    "This notebook is created at GESIS for general public to test \"gender\" package for inferring gender from names. It is a supplement to the GESIS Gender Inference website. For troobleshooting and citation info please refer [here](https://cran.r-project.org/web/packages/gender/)."
   ]
  },
  {
   "cell_type": "markdown",
   "metadata": {},
   "source": [
    "### SSA dictionary\n",
    "The first example uses SSA data (parameter \"method\" specifies the dictionary for inference). The \"gender\" function takes a character vector of names and a year or range of years as an input. "
   ]
  },
  {
   "cell_type": "code",
   "execution_count": null,
   "metadata": {},
   "outputs": [],
   "source": [
    "library(gender)\n",
    "name <- \"Madison\"  #Change the name here\n",
    "year <- 1930 #Change the year here\n",
    "gender(c(name), years = year, method = \"ssa\")"
   ]
  },
  {
   "cell_type": "markdown",
   "metadata": {},
   "source": [
    "As an outcome you get a proportion of male/female names at this year or period. Please keep in mind that time period is important: "
   ]
  },
  {
   "cell_type": "code",
   "execution_count": null,
   "metadata": {},
   "outputs": [],
   "source": [
    "year <- c(2000,2010)\n",
    "gender(c(name), years = year, method = \"ssa\")"
   ]
  },
  {
   "cell_type": "markdown",
   "metadata": {},
   "source": [
    "You can try gender() with a list of names or upload your csv file [here](data/) and run the next cell. The first row should contain a year or a period (in the format YYYY-YYYY) and each following row should have a firstname only "
   ]
  },
  {
   "cell_type": "code",
   "execution_count": null,
   "metadata": {},
   "outputs": [],
   "source": []
  }
 ],
 "metadata": {
  "kernelspec": {
   "display_name": "R",
   "language": "R",
   "name": "ir"
  },
  "language_info": {
   "codemirror_mode": "r",
   "file_extension": ".r",
   "mimetype": "text/x-r-source",
   "name": "R",
   "pygments_lexer": "r",
   "version": "3.6.0"
  }
 },
 "nbformat": 4,
 "nbformat_minor": 2
}
