{
 "cells": [
  {
   "cell_type": "code",
   "execution_count": 1,
   "metadata": {},
   "outputs": [
    {
     "name": "stderr",
     "output_type": "stream",
     "text": [
      "C:\\Users\\rahmanar\\AppData\\Local\\Continuum\\anaconda3\\lib\\site-packages\\h5py\\__init__.py:72: UserWarning: h5py is running against HDF5 1.10.2 when it was built against 1.10.3, this may cause problems\n",
      "  '{0}.{1}.{2}'.format(*version.hdf5_built_version_tuple)\n",
      "Using TensorFlow backend.\n"
     ]
    }
   ],
   "source": [
    "from keras.models import Sequential\n",
    "from keras.layers.core import Dense, Dropout, Activation, Flatten\n",
    "from keras.layers.convolutional import Convolution2D, MaxPooling2D\n",
    "from sklearn.model_selection import train_test_split\n",
    "import pandas as pd\n",
    "import numpy as np\n",
    "import keras"
   ]
  },
  {
   "cell_type": "code",
   "execution_count": 4,
   "metadata": {},
   "outputs": [
    {
     "name": "stdout",
     "output_type": "stream",
     "text": [
      "Beginning file download with urllib2...\n"
     ]
    },
    {
     "data": {
      "text/plain": [
       "('H:/privat/Data/IMDB/wiki.csv', <http.client.HTTPMessage at 0x5a45a58>)"
      ]
     },
     "execution_count": 4,
     "metadata": {},
     "output_type": "execute_result"
    }
   ],
   "source": [
    "\n",
    "import urllib.request\n",
    "\n",
    "print('Beginning file download with urllib2...')\n",
    "\n",
    "url = 'http://datax.kennesaw.edu/imdb_wiki/wiki5.csv'  \n",
    "urllib.request.urlretrieve(url, 'H:/privat/Data/IMDB/wiki.csv')\n"
   ]
  },
  {
   "cell_type": "code",
   "execution_count": 5,
   "metadata": {},
   "outputs": [],
   "source": [
    "data = pd.read_csv('H:/privat/Data/IMDB/wiki.csv')"
   ]
  },
  {
   "cell_type": "code",
   "execution_count": 6,
   "metadata": {},
   "outputs": [
    {
     "data": {
      "text/html": [
       "<div>\n",
       "<style scoped>\n",
       "    .dataframe tbody tr th:only-of-type {\n",
       "        vertical-align: middle;\n",
       "    }\n",
       "\n",
       "    .dataframe tbody tr th {\n",
       "        vertical-align: top;\n",
       "    }\n",
       "\n",
       "    .dataframe thead th {\n",
       "        text-align: right;\n",
       "    }\n",
       "</style>\n",
       "<table border=\"1\" class=\"dataframe\">\n",
       "  <thead>\n",
       "    <tr style=\"text-align: right;\">\n",
       "      <th></th>\n",
       "      <th>Unnamed: 0</th>\n",
       "      <th>gender</th>\n",
       "      <th>age</th>\n",
       "      <th>px0</th>\n",
       "      <th>px1</th>\n",
       "      <th>px2</th>\n",
       "      <th>px3</th>\n",
       "      <th>px4</th>\n",
       "      <th>px5</th>\n",
       "      <th>px6</th>\n",
       "      <th>...</th>\n",
       "      <th>px9990</th>\n",
       "      <th>px9991</th>\n",
       "      <th>px9992</th>\n",
       "      <th>px9993</th>\n",
       "      <th>px9994</th>\n",
       "      <th>px9995</th>\n",
       "      <th>px9996</th>\n",
       "      <th>px9997</th>\n",
       "      <th>px9998</th>\n",
       "      <th>px9999</th>\n",
       "    </tr>\n",
       "  </thead>\n",
       "  <tbody>\n",
       "    <tr>\n",
       "      <th>0</th>\n",
       "      <td>0</td>\n",
       "      <td>1</td>\n",
       "      <td>36</td>\n",
       "      <td>174</td>\n",
       "      <td>173</td>\n",
       "      <td>172</td>\n",
       "      <td>173</td>\n",
       "      <td>174</td>\n",
       "      <td>171</td>\n",
       "      <td>169</td>\n",
       "      <td>...</td>\n",
       "      <td>35</td>\n",
       "      <td>30</td>\n",
       "      <td>29</td>\n",
       "      <td>28</td>\n",
       "      <td>30</td>\n",
       "      <td>32</td>\n",
       "      <td>38</td>\n",
       "      <td>32</td>\n",
       "      <td>31</td>\n",
       "      <td>29</td>\n",
       "    </tr>\n",
       "    <tr>\n",
       "      <th>1</th>\n",
       "      <td>1</td>\n",
       "      <td>1</td>\n",
       "      <td>41</td>\n",
       "      <td>225</td>\n",
       "      <td>189</td>\n",
       "      <td>163</td>\n",
       "      <td>177</td>\n",
       "      <td>177</td>\n",
       "      <td>137</td>\n",
       "      <td>162</td>\n",
       "      <td>...</td>\n",
       "      <td>17</td>\n",
       "      <td>8</td>\n",
       "      <td>38</td>\n",
       "      <td>39</td>\n",
       "      <td>35</td>\n",
       "      <td>9</td>\n",
       "      <td>14</td>\n",
       "      <td>49</td>\n",
       "      <td>48</td>\n",
       "      <td>25</td>\n",
       "    </tr>\n",
       "    <tr>\n",
       "      <th>2</th>\n",
       "      <td>2</td>\n",
       "      <td>1</td>\n",
       "      <td>30</td>\n",
       "      <td>81</td>\n",
       "      <td>67</td>\n",
       "      <td>88</td>\n",
       "      <td>36</td>\n",
       "      <td>67</td>\n",
       "      <td>105</td>\n",
       "      <td>63</td>\n",
       "      <td>...</td>\n",
       "      <td>137</td>\n",
       "      <td>130</td>\n",
       "      <td>131</td>\n",
       "      <td>135</td>\n",
       "      <td>138</td>\n",
       "      <td>137</td>\n",
       "      <td>132</td>\n",
       "      <td>128</td>\n",
       "      <td>127</td>\n",
       "      <td>128</td>\n",
       "    </tr>\n",
       "    <tr>\n",
       "      <th>3</th>\n",
       "      <td>3</td>\n",
       "      <td>1</td>\n",
       "      <td>24</td>\n",
       "      <td>193</td>\n",
       "      <td>194</td>\n",
       "      <td>194</td>\n",
       "      <td>194</td>\n",
       "      <td>190</td>\n",
       "      <td>189</td>\n",
       "      <td>189</td>\n",
       "      <td>...</td>\n",
       "      <td>216</td>\n",
       "      <td>216</td>\n",
       "      <td>218</td>\n",
       "      <td>218</td>\n",
       "      <td>218</td>\n",
       "      <td>217</td>\n",
       "      <td>217</td>\n",
       "      <td>217</td>\n",
       "      <td>219</td>\n",
       "      <td>219</td>\n",
       "    </tr>\n",
       "    <tr>\n",
       "      <th>4</th>\n",
       "      <td>4</td>\n",
       "      <td>1</td>\n",
       "      <td>33</td>\n",
       "      <td>41</td>\n",
       "      <td>35</td>\n",
       "      <td>28</td>\n",
       "      <td>26</td>\n",
       "      <td>22</td>\n",
       "      <td>21</td>\n",
       "      <td>17</td>\n",
       "      <td>...</td>\n",
       "      <td>122</td>\n",
       "      <td>112</td>\n",
       "      <td>114</td>\n",
       "      <td>114</td>\n",
       "      <td>110</td>\n",
       "      <td>117</td>\n",
       "      <td>120</td>\n",
       "      <td>126</td>\n",
       "      <td>127</td>\n",
       "      <td>127</td>\n",
       "    </tr>\n",
       "  </tbody>\n",
       "</table>\n",
       "<p>5 rows × 10003 columns</p>\n",
       "</div>"
      ],
      "text/plain": [
       "   Unnamed: 0  gender  age  px0  px1  px2  px3  px4  px5  px6   ...    px9990  \\\n",
       "0           0       1   36  174  173  172  173  174  171  169   ...        35   \n",
       "1           1       1   41  225  189  163  177  177  137  162   ...        17   \n",
       "2           2       1   30   81   67   88   36   67  105   63   ...       137   \n",
       "3           3       1   24  193  194  194  194  190  189  189   ...       216   \n",
       "4           4       1   33   41   35   28   26   22   21   17   ...       122   \n",
       "\n",
       "   px9991  px9992  px9993  px9994  px9995  px9996  px9997  px9998  px9999  \n",
       "0      30      29      28      30      32      38      32      31      29  \n",
       "1       8      38      39      35       9      14      49      48      25  \n",
       "2     130     131     135     138     137     132     128     127     128  \n",
       "3     216     218     218     218     217     217     217     219     219  \n",
       "4     112     114     114     110     117     120     126     127     127  \n",
       "\n",
       "[5 rows x 10003 columns]"
      ]
     },
     "execution_count": 6,
     "metadata": {},
     "output_type": "execute_result"
    }
   ],
   "source": [
    "data.head()"
   ]
  },
  {
   "cell_type": "code",
   "execution_count": 7,
   "metadata": {},
   "outputs": [],
   "source": [
    "df_x = data.iloc[:,3:].values.reshape(len(data),100,100,1)\n",
    "\n",
    "y = data.iloc[:,1].values\n",
    "\n",
    "del data"
   ]
  },
  {
   "cell_type": "code",
   "execution_count": 8,
   "metadata": {},
   "outputs": [],
   "source": [
    "df_y = keras.utils.to_categorical(y,num_classes=2)"
   ]
  },
  {
   "cell_type": "code",
   "execution_count": 9,
   "metadata": {},
   "outputs": [],
   "source": [
    "df_x = np.array(df_x)\n",
    "df_y = np.array(df_y)"
   ]
  },
  {
   "cell_type": "code",
   "execution_count": 10,
   "metadata": {},
   "outputs": [
    {
     "data": {
      "text/plain": [
       "(3209, 100, 100, 1)"
      ]
     },
     "execution_count": 10,
     "metadata": {},
     "output_type": "execute_result"
    }
   ],
   "source": [
    "df_x.shape"
   ]
  },
  {
   "cell_type": "code",
   "execution_count": 11,
   "metadata": {},
   "outputs": [
    {
     "name": "stdout",
     "output_type": "stream",
     "text": [
      "(2246, 100, 100, 1)\n",
      "(963, 100, 100, 1)\n"
     ]
    }
   ],
   "source": [
    "x_train, x_test, y_train, y_test = train_test_split(df_x,df_y,test_size=0.3,random_state=4)\n",
    "\n",
    "del df_x\n",
    "del df_y\n",
    "\n",
    "print(x_train.shape)\n",
    "print(x_test.shape)"
   ]
  },
  {
   "cell_type": "code",
   "execution_count": 12,
   "metadata": {},
   "outputs": [
    {
     "name": "stdout",
     "output_type": "stream",
     "text": [
      "WARNING:tensorflow:From C:\\Users\\rahmanar\\AppData\\Local\\Continuum\\anaconda3\\lib\\site-packages\\tensorflow\\python\\framework\\op_def_library.py:263: colocate_with (from tensorflow.python.framework.ops) is deprecated and will be removed in a future version.\n",
      "Instructions for updating:\n",
      "Colocations handled automatically by placer.\n",
      "WARNING:tensorflow:From C:\\Users\\rahmanar\\AppData\\Local\\Continuum\\anaconda3\\lib\\site-packages\\keras\\backend\\tensorflow_backend.py:3445: calling dropout (from tensorflow.python.ops.nn_ops) with keep_prob is deprecated and will be removed in a future version.\n",
      "Instructions for updating:\n",
      "Please use `rate` instead of `keep_prob`. Rate should be set to `rate = 1 - keep_prob`.\n"
     ]
    }
   ],
   "source": [
    "#CNN MODEL\n",
    "\n",
    "model = Sequential()\n",
    "model.add(Convolution2D(64,3,data_format='channels_last',activation='relu',input_shape=(100,100,1)))\n",
    "model.add(MaxPooling2D(pool_size=(2,2)))\n",
    "model.add(Convolution2D(32,3,data_format='channels_last',activation='relu'))\n",
    "model.add(MaxPooling2D(pool_size=(2,2)))\n",
    "model.add(Convolution2D(16,3,data_format='channels_last',activation='relu'))\n",
    "model.add(MaxPooling2D(pool_size=(2,2)))\n",
    "model.add(Convolution2D(8,3,data_format='channels_last',activation='relu'))\n",
    "model.add(MaxPooling2D(pool_size=(2,2)))\n",
    "model.add(Convolution2D(4,3,data_format='channels_last',activation='relu'))\n",
    "model.add(MaxPooling2D(pool_size=(2,2)))\n",
    "\n",
    "model.add(Flatten())\n",
    "model.add(Dense(100))\n",
    "model.add(Activation('sigmoid'))\n",
    "model.add(Dropout(0.5))\n",
    "model.add(Dense(2))\n",
    "model.add(Activation('softmax'))\n",
    "model.compile(loss='categorical_crossentropy',optimizer = 'adadelta', metrics = ['accuracy'])"
   ]
  },
  {
   "cell_type": "code",
   "execution_count": 13,
   "metadata": {},
   "outputs": [
    {
     "name": "stdout",
     "output_type": "stream",
     "text": [
      "_________________________________________________________________\n",
      "Layer (type)                 Output Shape              Param #   \n",
      "=================================================================\n",
      "conv2d_1 (Conv2D)            (None, 98, 98, 64)        640       \n",
      "_________________________________________________________________\n",
      "max_pooling2d_1 (MaxPooling2 (None, 49, 49, 64)        0         \n",
      "_________________________________________________________________\n",
      "conv2d_2 (Conv2D)            (None, 47, 47, 32)        18464     \n",
      "_________________________________________________________________\n",
      "max_pooling2d_2 (MaxPooling2 (None, 23, 23, 32)        0         \n",
      "_________________________________________________________________\n",
      "conv2d_3 (Conv2D)            (None, 21, 21, 16)        4624      \n",
      "_________________________________________________________________\n",
      "max_pooling2d_3 (MaxPooling2 (None, 10, 10, 16)        0         \n",
      "_________________________________________________________________\n",
      "conv2d_4 (Conv2D)            (None, 8, 8, 8)           1160      \n",
      "_________________________________________________________________\n",
      "max_pooling2d_4 (MaxPooling2 (None, 4, 4, 8)           0         \n",
      "_________________________________________________________________\n",
      "conv2d_5 (Conv2D)            (None, 2, 2, 4)           292       \n",
      "_________________________________________________________________\n",
      "max_pooling2d_5 (MaxPooling2 (None, 1, 1, 4)           0         \n",
      "_________________________________________________________________\n",
      "flatten_1 (Flatten)          (None, 4)                 0         \n",
      "_________________________________________________________________\n",
      "dense_1 (Dense)              (None, 100)               500       \n",
      "_________________________________________________________________\n",
      "activation_1 (Activation)    (None, 100)               0         \n",
      "_________________________________________________________________\n",
      "dropout_1 (Dropout)          (None, 100)               0         \n",
      "_________________________________________________________________\n",
      "dense_2 (Dense)              (None, 2)                 202       \n",
      "_________________________________________________________________\n",
      "activation_2 (Activation)    (None, 2)                 0         \n",
      "=================================================================\n",
      "Total params: 25,882\n",
      "Trainable params: 25,882\n",
      "Non-trainable params: 0\n",
      "_________________________________________________________________\n"
     ]
    }
   ],
   "source": [
    "model.summary()"
   ]
  },
  {
   "cell_type": "code",
   "execution_count": 14,
   "metadata": {},
   "outputs": [
    {
     "name": "stdout",
     "output_type": "stream",
     "text": [
      "WARNING:tensorflow:From C:\\Users\\rahmanar\\AppData\\Local\\Continuum\\anaconda3\\lib\\site-packages\\tensorflow\\python\\ops\\math_ops.py:3066: to_int32 (from tensorflow.python.ops.math_ops) is deprecated and will be removed in a future version.\n",
      "Instructions for updating:\n",
      "Use tf.cast instead.\n",
      "Train on 2246 samples, validate on 963 samples\n",
      "Epoch 1/20\n",
      "2246/2246 [==============================] - 92s 41ms/step - loss: 0.7907 - acc: 0.5236 - val_loss: 0.6835 - val_acc: 0.5784\n",
      "Epoch 2/20\n",
      "2246/2246 [==============================] - 89s 40ms/step - loss: 0.7774 - acc: 0.5338 - val_loss: 0.6873 - val_acc: 0.5628\n",
      "Epoch 3/20\n",
      "2246/2246 [==============================] - 86s 38ms/step - loss: 0.7700 - acc: 0.5249 - val_loss: 0.6784 - val_acc: 0.5826\n",
      "Epoch 4/20\n",
      "2246/2246 [==============================] - 84s 37ms/step - loss: 0.7285 - acc: 0.5552 - val_loss: 0.6520 - val_acc: 0.6075\n",
      "Epoch 5/20\n",
      "2246/2246 [==============================] - 81s 36ms/step - loss: 0.7299 - acc: 0.5534 - val_loss: 0.6602 - val_acc: 0.5992\n",
      "Epoch 6/20\n",
      "2246/2246 [==============================] - 80s 36ms/step - loss: 0.7048 - acc: 0.5739 - val_loss: 0.6932 - val_acc: 0.4766\n",
      "Epoch 7/20\n",
      "2246/2246 [==============================] - 87s 39ms/step - loss: 0.6958 - acc: 0.5806 - val_loss: 0.6284 - val_acc: 0.6386\n",
      "Epoch 8/20\n",
      "2246/2246 [==============================] - 87s 39ms/step - loss: 0.6560 - acc: 0.6184 - val_loss: 0.6139 - val_acc: 0.6532\n",
      "Epoch 9/20\n",
      "2246/2246 [==============================] - 88s 39ms/step - loss: 0.6303 - acc: 0.6589 - val_loss: 0.6033 - val_acc: 0.6802\n",
      "Epoch 10/20\n",
      "2246/2246 [==============================] - 92s 41ms/step - loss: 0.6202 - acc: 0.6874 - val_loss: 0.5937 - val_acc: 0.6906\n",
      "Epoch 11/20\n",
      "2246/2246 [==============================] - 90s 40ms/step - loss: 0.5677 - acc: 0.7155 - val_loss: 0.5648 - val_acc: 0.7217\n",
      "Epoch 12/20\n",
      "2246/2246 [==============================] - 93s 41ms/step - loss: 0.5732 - acc: 0.7097 - val_loss: 0.6094 - val_acc: 0.6739\n",
      "Epoch 13/20\n",
      "2246/2246 [==============================] - 86s 38ms/step - loss: 0.5501 - acc: 0.7315 - val_loss: 0.5784 - val_acc: 0.6937\n",
      "Epoch 14/20\n",
      "2246/2246 [==============================] - 82s 37ms/step - loss: 0.5458 - acc: 0.7373 - val_loss: 0.5604 - val_acc: 0.7248\n",
      "Epoch 15/20\n",
      "2246/2246 [==============================] - 81s 36ms/step - loss: 0.5459 - acc: 0.7244 - val_loss: 0.5750 - val_acc: 0.6978\n",
      "Epoch 16/20\n",
      "2246/2246 [==============================] - 88s 39ms/step - loss: 0.5376 - acc: 0.7431 - val_loss: 0.5726 - val_acc: 0.7030\n",
      "Epoch 17/20\n",
      "2246/2246 [==============================] - 87s 39ms/step - loss: 0.5293 - acc: 0.7569 - val_loss: 0.5954 - val_acc: 0.6978\n",
      "Epoch 18/20\n",
      "2246/2246 [==============================] - 88s 39ms/step - loss: 0.5180 - acc: 0.7600 - val_loss: 0.6033 - val_acc: 0.6947\n",
      "Epoch 19/20\n",
      "2246/2246 [==============================] - 87s 39ms/step - loss: 0.5125 - acc: 0.7631 - val_loss: 0.5461 - val_acc: 0.7362\n",
      "Epoch 20/20\n",
      "2246/2246 [==============================] - 86s 38ms/step - loss: 0.5418 - acc: 0.7404 - val_loss: 0.5541 - val_acc: 0.7196\n"
     ]
    },
    {
     "data": {
      "text/plain": [
       "<keras.callbacks.History at 0x5bded550>"
      ]
     },
     "execution_count": 14,
     "metadata": {},
     "output_type": "execute_result"
    }
   ],
   "source": [
    "#model.fit(x_train[:2001], y_train[:2001], validation_data=(x_test[:21], y_test[:21]), epochs=5)\n",
    "\n",
    "model.fit(x_train, y_train, validation_data=(x_test, y_test), epochs=20, batch_size=200)"
   ]
  },
  {
   "cell_type": "code",
   "execution_count": 15,
   "metadata": {},
   "outputs": [
    {
     "name": "stdout",
     "output_type": "stream",
     "text": [
      "963/963 [==============================] - 13s 13ms/step\n"
     ]
    },
    {
     "data": {
      "text/plain": [
       "[0.5541224060183622, 0.719626168224299]"
      ]
     },
     "execution_count": 15,
     "metadata": {},
     "output_type": "execute_result"
    }
   ],
   "source": [
    "#np.savez('H:/privat/Data/IMDB/wiki_train_test',x_train,x_test,y_train,y_test)\n",
    "model.evaluate(x_test,y_test)"
   ]
  },
  {
   "cell_type": "code",
   "execution_count": 16,
   "metadata": {},
   "outputs": [
    {
     "name": "stdout",
     "output_type": "stream",
     "text": [
      "              precision    recall  f1-score   support\n",
      "\n",
      "           0       0.75      0.51      0.60       405\n",
      "           1       0.71      0.87      0.78       558\n",
      "\n",
      "   micro avg       0.72      0.72      0.72       963\n",
      "   macro avg       0.73      0.69      0.69       963\n",
      "weighted avg       0.72      0.72      0.71       963\n",
      "\n"
     ]
    }
   ],
   "source": [
    "from sklearn.metrics import classification_report, confusion_matrix\n",
    "\n",
    "y_pred = model.predict_classes(x_test)\n",
    "print(classification_report(np.argmax(y_test,axis=1),y_pred))"
   ]
  },
  {
   "cell_type": "code",
   "execution_count": 18,
   "metadata": {},
   "outputs": [
    {
     "name": "stdout",
     "output_type": "stream",
     "text": [
      "[[205 200]\n",
      " [ 70 488]]\n"
     ]
    }
   ],
   "source": [
    "con_mat = confusion_matrix(np.argmax(y_test,axis=1),y_pred)\n",
    "print(con_mat)"
   ]
  },
  {
   "cell_type": "code",
   "execution_count": 19,
   "metadata": {},
   "outputs": [
    {
     "name": "stdout",
     "output_type": "stream",
     "text": [
      "Total accuracy is:\n",
      "71.96%\n"
     ]
    }
   ],
   "source": [
    "accuracy = (sum(con_mat.diagonal()))/(con_mat.sum())       # Calculating the accuracy\n",
    "\n",
    "print(\"Total accuracy is:\")\n",
    "print('{percent:.2%}'.format(percent=accuracy))"
   ]
  },
  {
   "cell_type": "code",
   "execution_count": null,
   "metadata": {},
   "outputs": [],
   "source": []
  }
 ],
 "metadata": {
  "kernelspec": {
   "display_name": "Python 3",
   "language": "python",
   "name": "python3"
  },
  "language_info": {
   "codemirror_mode": {
    "name": "ipython",
    "version": 3
   },
   "file_extension": ".py",
   "mimetype": "text/x-python",
   "name": "python",
   "nbconvert_exporter": "python",
   "pygments_lexer": "ipython3",
   "version": "3.6.6"
  }
 },
 "nbformat": 4,
 "nbformat_minor": 2
}
